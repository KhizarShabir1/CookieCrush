{
 "cells": [
  {
   "cell_type": "code",
   "execution_count": 17,
   "metadata": {
    "collapsed": false
   },
   "outputs": [
    {
     "name": "stdout",
     "output_type": "stream",
     "text": [
      "6\n",
      "False\n",
      "Given List [1, 2, 3, 4, 5, 9, 2, 3, 5]\n",
      "Function Returned 9\n",
      "True\n",
      "\n",
      "Given List [1, 2, 5, 4, 5, 19]\n",
      "Function Returned 6\n",
      "False\n",
      "\n",
      "Given List [1, 2, 3, 4, 5, 9, 2, 3]\n",
      "Function Returned 8\n",
      "False\n"
     ]
    }
   ],
   "source": [
    "import random\n",
    "\n",
    "def groupsOfThree(lis):\n",
    "    #start your code here\n",
    "    lent=len(lis)\n",
    "    print lent\n",
    "    if lent%3!=0:\n",
    "        return False\n",
    "    if lent==3:\n",
    "        if (lis[0]+lis[1])!=lis[2]:\n",
    "            return False\n",
    "    i=0\n",
    "    while i<lent:\n",
    "        if lis[i]+lis[i+1]==lis[i+2]:\n",
    "            i+=3\n",
    "        else:\n",
    "            return False\n",
    "    return True\n",
    "            \n",
    "        \n",
    "    \n",
    "    \n",
    "    \n",
    "    \n",
    "    \n",
    "    \n",
    "    return\n",
    "    #end your code here\n",
    "liss=[1,2,5,4,5,19]\n",
    "x=groupsOfThree(liss)\n",
    "print x\n",
    "    \n",
    "    \n",
    "#do not modify below this block\n",
    "\n",
    "# These test lists below are to validate your function\n",
    "\n",
    "testList_1 = [1,2,3,4,5,9,2,3,5]\n",
    "print \"Given List\", testList_1\n",
    "print \"Function Returned\", groupsOfThree(testList_1)\n",
    "\n",
    "print\n",
    "testList_2 = [1,2,5,4,5,19]\n",
    "print \"Given List\", testList_2\n",
    "print \"Function Returned\", groupsOfThree(testList_2)\n",
    "\n",
    "print\n",
    "testList_3 = [1,2,3,4,5,9,2,3]\n",
    "print \"Given List\", testList_3\n",
    "print \"Function Returned\", groupsOfThree(testList_3)"
   ]
  },
  {
   "cell_type": "markdown",
   "metadata": {},
   "source": [
    "## Do not use any other cell below."
   ]
  }
 ],
 "metadata": {
  "kernelspec": {
   "display_name": "Python 2",
   "language": "python",
   "name": "python2"
  },
  "language_info": {
   "codemirror_mode": {
    "name": "ipython",
    "version": 2
   },
   "file_extension": ".py",
   "mimetype": "text/x-python",
   "name": "python",
   "nbconvert_exporter": "python",
   "pygments_lexer": "ipython2",
   "version": "2.7.11"
  }
 },
 "nbformat": 4,
 "nbformat_minor": 0
}
